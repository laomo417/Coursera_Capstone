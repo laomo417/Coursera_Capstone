{
 "cells": [
  {
   "cell_type": "markdown",
   "metadata": {},
   "source": [
    "### __Introduction/Business Problem__"
   ]
  },
  {
   "cell_type": "markdown",
   "metadata": {},
   "source": [
    "I live in the bay area of California, United States. As the big technology companies in this area keep hiring new engineers and other professionals, more people from all over the country and abroad are moving into this area, a lot of them are Chinese or Asian. Intrigued by this trend, one of my friends is considering opening a new Chinese restaurant in this area.\n",
    "\n",
    "One of the most important questions he needs to answer first is “Where should I open the new restaurant?” The location choice can be impacted by various factors such as population composition, median family income, competitors, neighborhood future business planning, etc.\n",
    "\n",
    "As a first step, he wants me to help him find out how many Chinese restaurants already opened in each city of bay area. This is an important data for picking up the final location of the new restaurant as cities with more Chinese restaurants usually mean there are more potential customers for the new restaurant. At the same time, it also means it's more competitive in that area."
   ]
  },
  {
   "cell_type": "markdown",
   "metadata": {},
   "source": [
    "### __Data__"
   ]
  },
  {
   "cell_type": "markdown",
   "metadata": {},
   "source": [
    "To find out how many Chinese restaurants already opened up in each city of bay area, we first need the city names in the bay area. In the following website: https://data.sfgov.org/Geographic-Locations-and-Boundaries/Bay-Area-ZIP-Codes/u5j3-svi6, we can download the data of each zip code in the bay area along with its city name in either CSV or Json file format.\n",
    "\n",
    "After getting the city names, next step we need to get the latitude and longitude value of each city, this can be accomplished by using geocoders in the geopy library.\n",
    "\n",
    "Next step, we will use Foursquare API to get the venues information of neighborhoods of each city."
   ]
  }
 ],
 "metadata": {
  "kernelspec": {
   "display_name": "Python 3",
   "language": "python",
   "name": "python3"
  },
  "language_info": {
   "codemirror_mode": {
    "name": "ipython",
    "version": 3
   },
   "file_extension": ".py",
   "mimetype": "text/x-python",
   "name": "python",
   "nbconvert_exporter": "python",
   "pygments_lexer": "ipython3",
   "version": "3.7.1"
  }
 },
 "nbformat": 4,
 "nbformat_minor": 2
}
